{
 "cells": [
  {
   "cell_type": "code",
   "execution_count": 1,
   "metadata": {},
   "outputs": [],
   "source": [
    "# ref: https://www.kaggle.com/code/granjithkumar/nlp-with-women-clothing-reviews/data\n",
    "\n",
    "import numpy as np\n",
    "import pandas as pd\n",
    "import os\n",
    "import re\n",
    "# nltk.download('stopwords')\n",
    "os.environ[\"NLTK_DATA\"] = \"./corpora\"\n",
    "from nltk.corpus import stopwords\n",
    "from nltk.stem.porter import PorterStemmer\n",
    "from sklearn.model_selection import train_test_split\n",
    "from sklearn.feature_extraction.text import CountVectorizer as CV\n",
    "from sklearn.naive_bayes import BernoulliNB\n",
    "from sklearn.metrics import accuracy_score\n",
    "import pickle\n",
    "import mlflow"
   ]
  },
  {
   "cell_type": "code",
   "execution_count": 2,
   "metadata": {},
   "outputs": [
    {
     "data": {
      "text/plain": [
       "<Experiment: artifact_location='./mlruns/2', experiment_id='2', lifecycle_stage='active', name='customer-sentiment-analysis', tags={}>"
      ]
     },
     "execution_count": 2,
     "metadata": {},
     "output_type": "execute_result"
    }
   ],
   "source": [
    "mlflow.set_tracking_uri(\"sqlite:///mlflow.db\")\n",
    "mlflow.set_experiment(\"customer-sentiment-analysis\")"
   ]
  },
  {
   "cell_type": "code",
   "execution_count": 3,
   "metadata": {},
   "outputs": [],
   "source": [
    "## data loading\n",
    "data = pd.read_csv('Womens Clothing E-Commerce Reviews.csv',index_col =[0])\n",
    "\n",
    "## preprocess text\n",
    "data = data[~data['Review Text'].isnull()]  #Dropping columns which don't have any review\n",
    "X = data[['Review Text']]\n",
    "X.index = np.arange(len(X))\n",
    "\n",
    "y = data['Recommended IND']"
   ]
  },
  {
   "cell_type": "code",
   "execution_count": 10,
   "metadata": {},
   "outputs": [],
   "source": [
    "corpus =[]\n",
    "for i in range(len(X)):\n",
    "    review = re.sub('[^a-zA-z]',' ',X['Review Text'][i])\n",
    "    review = review.lower()\n",
    "    review = review.split()\n",
    "    ps = PorterStemmer()\n",
    "    review =[ps.stem(i) for i in review if not i in set(stopwords.words('english'))]\n",
    "    review =' '.join(review)\n",
    "    corpus.append(review)\n"
   ]
  },
  {
   "cell_type": "code",
   "execution_count": 16,
   "metadata": {},
   "outputs": [],
   "source": [
    "cv  = CV(max_features = 3000,ngram_range=(1,1))\n",
    "X_cv = cv.fit_transform(corpus).toarray()\n",
    "y = y.values\n",
    "\n",
    "X_train, X_test, y_train, y_test = train_test_split(X_cv, y, test_size = 0.20, random_state = 0)\n"
   ]
  },
  {
   "cell_type": "code",
   "execution_count": 23,
   "metadata": {},
   "outputs": [
    {
     "name": "stderr",
     "output_type": "stream",
     "text": [
      "2022/08/09 18:40:24 WARNING mlflow.utils.autologging_utils: Encountered unexpected error during sklearn autologging: The following failures occurred while performing one or more logging operations: [MlflowException('Failed to perform one or more operations on the run with ID df275ac8d95b41748c8a6536f46145b3. Failed operations: [MlflowException(\"Changing param values is not allowed. Params were already logged=\\'[{\\'key\\': \\'binarize\\', \\'old_value\\': None, \\'new_value\\': \\'0.0\\'}, {\\'key\\': \\'class_prior\\', \\'old_value\\': None, \\'new_value\\': \\'None\\'}, {\\'key\\': \\'fit_prior\\', \\'old_value\\': None, \\'new_value\\': \\'True\\'}]\\' for run ID=\\'df275ac8d95b41748c8a6536f46145b3\\'.\")]')]\n"
     ]
    },
    {
     "name": "stdout",
     "output_type": "stream",
     "text": [
      "accuracy on test data: 0.873923603444469\n"
     ]
    }
   ],
   "source": [
    "mlflow.sklearn.autolog()\n",
    "\n",
    "with mlflow.start_run():\n",
    "\n",
    "    mlflow.set_tag(\"developer\", \"Isaac\")\n",
    "    mlflow.set_tag(\"algorithm\", \"BernoulliNB\")\n",
    "    mlflow.log_param(\"train-data\", \"Womens Clothing E-Commerce Reviews\")\n",
    "    \n",
    "    alpha = .5\n",
    "    mlflow.log_param(\"alpha\", alpha)\n",
    "\n",
    "    classifier = BernoulliNB(alpha = alpha)\n",
    "    classifier.fit(X_train, y_train)\n",
    "\n",
    "    y_pred = classifier.predict(X_test)\n",
    "    acc = accuracy_score(y_test, y_pred)\n",
    "    \n",
    "    mlflow.log_metric(\"accuracy\", acc)\n",
    "\n",
    "    print(\"accuracy on test data:\", acc)\n",
    "\n",
    "    model_name = \"model_bow.bin\"\n",
    "    with open(\"models/\" + model_name, 'wb') as fout:\n",
    "        pickle.dump((cv, classifier), fout)\n",
    "\n",
    "    # mlflow.sklearn.log_model(classifier, artifact_path=\"models\")\n",
    "    mlflow.log_artifact(local_path=\"models/\" + model_name, artifact_path=\"models_pickle\")\n"
   ]
  },
  {
   "cell_type": "code",
   "execution_count": 24,
   "metadata": {},
   "outputs": [
    {
     "name": "stderr",
     "output_type": "stream",
     "text": [
      "2022/08/09 18:40:32 WARNING mlflow.utils.autologging_utils: Encountered unexpected error during sklearn autologging: The following failures occurred while performing one or more logging operations: [MlflowException('Failed to perform one or more operations on the run with ID f9d52a8a84c44932baebcab976febc27. Failed operations: [MlflowException(\"Changing param values is not allowed. Params were already logged=\\'[{\\'key\\': \\'class_prior\\', \\'old_value\\': None, \\'new_value\\': \\'None\\'}, {\\'key\\': \\'fit_prior\\', \\'old_value\\': None, \\'new_value\\': \\'True\\'}]\\' for run ID=\\'f9d52a8a84c44932baebcab976febc27\\'.\")]')]\n"
     ]
    },
    {
     "name": "stdout",
     "output_type": "stream",
     "text": [
      "accuracy on test data: 0.8441156988297638\n"
     ]
    }
   ],
   "source": [
    "from sklearn.feature_extraction.text import TfidfVectorizer as TV\n",
    "from sklearn.naive_bayes import MultinomialNB\n",
    "\n",
    "y = data['Recommended IND']\n",
    "\n",
    "tv  = TV(ngram_range =(1,1),max_features = 3000)\n",
    "X_tv = tv.fit_transform(corpus).toarray()\n",
    "\n",
    "X_train, X_test, y_train, y_test = train_test_split(X_tv, y, test_size = 0.20, random_state = 0)\n",
    "\n",
    "\n",
    "mlflow.sklearn.autolog()\n",
    "\n",
    "with mlflow.start_run():\n",
    "\n",
    "    mlflow.set_tag(\"developer\", \"Isaac\")\n",
    "    mlflow.set_tag(\"algorithm\", \"MultinomialNB\")\n",
    "    mlflow.log_param(\"train-data\", \"Womens Clothing E-Commerce Reviews\")\n",
    "\n",
    "    alpha = .5\n",
    "    mlflow.log_param(\"alpha\", alpha)\n",
    "\n",
    "    classifier = MultinomialNB(alpha = alpha)\n",
    "    classifier.fit(X_train, y_train)\n",
    "\n",
    "    y_pred = classifier.predict(X_test)\n",
    "    acc = accuracy_score(y_test, y_pred)\n",
    "\n",
    "    mlflow.log_metric(\"accuracy\", acc)\n",
    "\n",
    "    print(\"accuracy on test data:\", acc)\n",
    "\n",
    "    model_name = \"model_tfidf.bin\"\n",
    "    with open(\"models/\" + model_name, 'wb') as fout:\n",
    "        pickle.dump((tv, classifier), fout)\n",
    "\n",
    "    # mlflow.sklearn.log_model(classifier, artifact_path=\"models\")\n",
    "    mlflow.log_artifact(local_path=\"models/\" + model_name, artifact_path=\"models_pickle\")\n"
   ]
  },
  {
   "cell_type": "code",
   "execution_count": 38,
   "metadata": {},
   "outputs": [
    {
     "name": "stdout",
     "output_type": "stream",
     "text": [
      "Fit model on training data\n",
      "Epoch 1/50\n",
      "566/566 [==============================] - 1s 2ms/step - loss: 0.4555 - accuracy: 0.8211 - val_loss: 0.3816 - val_accuracy: 0.8101\n",
      "Epoch 2/50\n",
      "566/566 [==============================] - 1s 1ms/step - loss: 0.2913 - accuracy: 0.8674 - val_loss: 0.2844 - val_accuracy: 0.8711\n",
      "Epoch 3/50\n",
      "566/566 [==============================] - 1s 1ms/step - loss: 0.2403 - accuracy: 0.8992 - val_loss: 0.2731 - val_accuracy: 0.8794\n",
      "Epoch 4/50\n",
      "566/566 [==============================] - 1s 1ms/step - loss: 0.2235 - accuracy: 0.9069 - val_loss: 0.2798 - val_accuracy: 0.8792\n",
      "Epoch 5/50\n",
      "566/566 [==============================] - 1s 1ms/step - loss: 0.2130 - accuracy: 0.9117 - val_loss: 0.2788 - val_accuracy: 0.8805\n"
     ]
    },
    {
     "name": "stderr",
     "output_type": "stream",
     "text": [
      "2022/08/09 19:28:42 WARNING mlflow.utils.autologging_utils: Encountered unexpected error during tensorflow autologging: 'EarlyStopping' object is not iterable\n"
     ]
    },
    {
     "name": "stdout",
     "output_type": "stream",
     "text": [
      "INFO:tensorflow:Assets written to: C:\\Users\\Isaac\\AppData\\Local\\Temp\\tmp0a3f3exe\\model\\data\\model\\assets\n",
      "Evaluate on test data\n",
      "36/36 [==============================] - 0s 833us/step - loss: 0.2788 - accuracy: 0.8805\n",
      "test loss, test acc: [0.27883851528167725, 0.8805475831031799]\n",
      "Generate predictions for 3 samples\n",
      "predictions shape: (3, 1)\n",
      "model prediction for input: I Will tell my friends for sure \n",
      " [[0.9991835]]\n"
     ]
    }
   ],
   "source": [
    "import tensorflow as tf\n",
    "from tensorflow.keras.preprocessing.text import Tokenizer\n",
    "from tensorflow.keras.preprocessing.sequence import pad_sequences\n",
    "\n",
    "y = data['Recommended IND']\n",
    "\n",
    "## tokenization and dataset creation\n",
    "tokenizer = Tokenizer(num_words = 3000)\n",
    "tokenizer.fit_on_texts(corpus)\n",
    "\n",
    "sequences = tokenizer.texts_to_sequences(corpus)\n",
    "padded = pad_sequences(sequences, padding='post')\n",
    "\n",
    "X_train, X_test, y_train, y_test = train_test_split(padded, y, test_size = 0.20, random_state = 0)\n",
    "\n",
    "# mlflow.tensorflow.autolog()\n",
    "# mlflow.keras.autolog()\n",
    "\n",
    "with mlflow.start_run():\n",
    "    ## model definition\n",
    "    embedding_dim = 32\n",
    "    model = tf.keras.Sequential([\n",
    "        tf.keras.layers.Embedding(3000, embedding_dim),\n",
    "        tf.keras.layers.GlobalAveragePooling1D(),\n",
    "        tf.keras.layers.Dense(6, activation='relu'),\n",
    "        tf.keras.layers.Dense(1, activation='sigmoid')\n",
    "    ])\n",
    "\n",
    "    ## training\n",
    "    num_epochs = 50\n",
    "    batch_size = 32\n",
    "    callback = tf.keras.callbacks.EarlyStopping(\n",
    "        monitor=\"val_loss\",\n",
    "        min_delta=0,\n",
    "        patience=2,\n",
    "        verbose=0,\n",
    "        mode=\"auto\",\n",
    "        baseline=None,\n",
    "        restore_best_weights=False,\n",
    "    )\n",
    "\n",
    "    model.compile(loss='binary_crossentropy',optimizer='adam',metrics=['accuracy'])\n",
    "\n",
    "    mlflow.set_tag(\"developer\", \"Isaac\")\n",
    "    mlflow.set_tag(\"algorithm\", \"Deep Learning\")\n",
    "    mlflow.log_param(\"train-data\", \"Womens Clothing E-Commerce Reviews\")\n",
    "    mlflow.log_param(\"embedding-dim\", embedding_dim)\n",
    "\n",
    "    print(\"Fit model on training data\")\n",
    "    history = model.fit(\n",
    "        X_train,\n",
    "        y_train,\n",
    "        batch_size=batch_size,\n",
    "        epochs=num_epochs,\n",
    "        callbacks=callback,\n",
    "        # We pass some validation for\n",
    "        # monitoring validation loss and metrics\n",
    "        # at the end of each epoch\n",
    "        validation_data=(X_test, y_test),\n",
    "    )\n",
    "\n",
    "    ## save model and tokenizer\n",
    "    # model.save('models/model_dl.h5')\n",
    "    mlflow.keras.log_model(model, 'models/model_dl')\n",
    "\n",
    "    with open('models/tf_tokenizer.pickle', 'wb') as handle:\n",
    "        pickle.dump(tokenizer, handle, protocol=pickle.HIGHEST_PROTOCOL)\n",
    "\n",
    "    # Evaluate the model on the test data using `evaluate`\n",
    "    print(\"Evaluate on test data\")\n",
    "    results = model.evaluate(X_test, y_test, batch_size=128)\n",
    "    print(\"test loss, test acc:\", results)\n",
    "    mlflow.log_metric(\"loss\", results[0])\n",
    "    mlflow.log_metric(\"accuracy\", results[1])\n",
    "\n",
    "    # mlflow.log_artifact(local_path=\"models/model_dl.h5\", artifact_path=\"models_pickle\")\n",
    "    mlflow.log_artifact(local_path=\"models/tf_tokenizer.pickle\", artifact_path=\"tokenizer_pickle\")\n",
    "\n",
    "\n",
    "    # Generate predictions (probabilities -- the output of the last layer)\n",
    "    # on new data using `predict`\n",
    "    print(\"Generate predictions for 3 samples\")\n",
    "    predictions = model.predict(X_test[:3])\n",
    "    print(\"predictions shape:\", predictions.shape)\n",
    "\n",
    "\n",
    "    sample_string = \"I Will tell my friends for sure\"\n",
    "    sample = tokenizer.texts_to_sequences(sample_string)\n",
    "    padded_sample = pad_sequences(sample, padding='post').T\n",
    "    sample_predict = model.predict(padded_sample)\n",
    "    print(f\"model prediction for input: {sample_string} \\n {sample_predict}\")\n"
   ]
  },
  {
   "cell_type": "code",
   "execution_count": 41,
   "metadata": {},
   "outputs": [
    {
     "data": {
      "text/plain": [
       "<tensorflow.python.keras.engine.sequential.Sequential at 0x24975a0c0d0>"
      ]
     },
     "execution_count": 41,
     "metadata": {},
     "output_type": "execute_result"
    }
   ],
   "source": [
    "mlflow.keras.load_model('./mlruns/2/b7c1ae8139b94ad9aa5b566001fb4255/artifacts/models/model_dl')"
   ]
  },
  {
   "cell_type": "code",
   "execution_count": 9,
   "metadata": {},
   "outputs": [
    {
     "data": {
      "text/plain": [
       "<tensorflow.python.keras.engine.sequential.Sequential at 0x20dee6e98b0>"
      ]
     },
     "execution_count": 9,
     "metadata": {},
     "output_type": "execute_result"
    }
   ],
   "source": [
    "m = mlflow.keras.load_model(\"models:/customer-sentiment-analysis/3\", dst_path=None)\n",
    "m"
   ]
  },
  {
   "cell_type": "code",
   "execution_count": 10,
   "metadata": {},
   "outputs": [
    {
     "data": {
      "text/plain": [
       "'c:\\\\Users\\\\Isaac\\\\codes\\\\personal\\\\mlops-zoomcamp-final-project\\\\training_job\\\\models_pickle'"
      ]
     },
     "execution_count": 10,
     "metadata": {},
     "output_type": "execute_result"
    }
   ],
   "source": [
    "from mlflow.tracking import MlflowClient\n",
    "client = MlflowClient(tracking_uri=\"sqlite:///mlflow.db\")\n",
    "client.download_artifacts(run_id=\"d3ebd0c0b590443e824cde73fe041a6e\", path='models_pickle', dst_path='.')"
   ]
  },
  {
   "cell_type": "code",
   "execution_count": 19,
   "metadata": {},
   "outputs": [
    {
     "name": "stdout",
     "output_type": "stream",
     "text": [
      "{   'creation_timestamp': 1660141156340,\n",
      "    'current_stage': 'Production',\n",
      "    'description': 'moved to production on the 8th of August 2020 by Isaac.',\n",
      "    'last_updated_timestamp': 1660143559490,\n",
      "    'name': 'customer-sentiment-analysis',\n",
      "    'run_id': 'd3ebd0c0b590443e824cde73fe041a6e',\n",
      "    'run_link': '',\n",
      "    'source': './mlruns/2/d3ebd0c0b590443e824cde73fe041a6e/artifacts/models/model_dl.h5',\n",
      "    'status': 'READY',\n",
      "    'status_message': None,\n",
      "    'tags': {},\n",
      "    'user_id': None,\n",
      "    'version': 3}\n",
      "'d3ebd0c0b590443e824cde73fe041a6e'\n"
     ]
    }
   ],
   "source": [
    "from mlflow.tracking import MlflowClient\n",
    "from pprint import pprint\n",
    "\n",
    "client = MlflowClient(tracking_uri=\"sqlite:///mlflow.db\")\n",
    "# for rm in client.list_registered_models():\n",
    "#     pprint(dict(rm), indent=4)\n",
    "\n",
    "for mv in client.search_model_versions(\"name='customer-sentiment-analysis'\"):\n",
    "    if dict(mv)['current_stage'] == 'Production':\n",
    "        pprint(dict(mv), indent=4)\n",
    "        pprint(dict(mv)['run_id'])\n",
    "    "
   ]
  },
  {
   "cell_type": "code",
   "execution_count": null,
   "metadata": {},
   "outputs": [],
   "source": []
  }
 ],
 "metadata": {
  "kernelspec": {
   "display_name": "Python 3.8.13 ('nlp')",
   "language": "python",
   "name": "python3"
  },
  "language_info": {
   "codemirror_mode": {
    "name": "ipython",
    "version": 3
   },
   "file_extension": ".py",
   "mimetype": "text/x-python",
   "name": "python",
   "nbconvert_exporter": "python",
   "pygments_lexer": "ipython3",
   "version": "3.8.13"
  },
  "orig_nbformat": 4,
  "vscode": {
   "interpreter": {
    "hash": "35eb031327f874202fc859ce985fbacb2003273d222964e5b2818af472148a0a"
   }
  }
 },
 "nbformat": 4,
 "nbformat_minor": 2
}
